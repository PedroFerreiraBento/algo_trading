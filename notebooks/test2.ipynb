{
 "cells": [
  {
   "cell_type": "code",
   "execution_count": null,
   "metadata": {},
   "outputs": [
    {
     "name": "stderr",
     "output_type": "stream",
     "text": [
      "2024-12-26 21:59:06,042 - INFO - Parquet file created: example.parquet\n",
      "2024-12-26 21:59:06,057 - INFO - Data appended to Parquet file: example.parquet\n",
      "2024-12-26 21:59:06,073 - INFO - Data appended to Parquet file: example.parquet\n",
      "2024-12-26 21:59:06,092 - INFO - Parquet file read successfully: example.parquet\n"
     ]
    },
    {
     "name": "stdout",
     "output_type": "stream",
     "text": [
      "Dados combinados do arquivo Parquet:\n",
      "   id     name  age\n",
      "0   1    Alice   25\n",
      "1   2      Bob   30\n",
      "2   3  Charlie   35\n",
      "3   4    Diana   40\n",
      "4   5      Eve   45\n",
      "5   6    Frank   50\n",
      "6   7    Grace   55\n"
     ]
    }
   ],
   "source": [
    "import pandas as pd\n",
    "import pyarrow as pa\n",
    "import pyarrow.parquet as pq\n",
    "import os\n",
    "import logging\n",
    "from typing import Union\n",
    "\n",
    "logging.basicConfig(level=logging.INFO, format=\"%(asctime)s - %(levelname)s - %(message)s\")\n",
    "\n",
    "\n",
    "\n",
    "\n",
    "\n",
    "\n",
    "# Exemplo de uso\n",
    "filename = \"example.parquet\"\n",
    "data1 = {\"id\": [1, 2, 3], \"name\": [\"Alice\", \"Bob\", \"Charlie\"], \"age\": [25, 30, 35]}\n",
    "data2 = {\"id\": [4, 5], \"name\": [\"Diana\", \"Eve\"], \"age\": [40, 45]}\n",
    "data3 = {\"id\": [6, 7], \"name\": [\"Frank\", \"Grace\"], \"age\": [50, 55]}\n",
    "\n",
    "# Criar novo arquivo Parquet\n",
    "DataStorage.write_parquet(data1, filename)\n",
    "\n",
    "# Adicionar dados incrementais\n",
    "DataStorage.append_parquet(data2, filename)\n",
    "DataStorage.append_parquet(data3, filename)\n",
    "\n",
    "# Ler os dados combinados\n",
    "combined_data = DataStorage.read_parquet(filename)\n",
    "print(\"Dados combinados do arquivo Parquet:\")\n",
    "print(combined_data)\n"
   ]
  },
  {
   "cell_type": "code",
   "execution_count": null,
   "metadata": {},
   "outputs": [],
   "source": []
  }
 ],
 "metadata": {
  "kernelspec": {
   "display_name": "backtestenv",
   "language": "python",
   "name": "python3"
  },
  "language_info": {
   "codemirror_mode": {
    "name": "ipython",
    "version": 3
   },
   "file_extension": ".py",
   "mimetype": "text/x-python",
   "name": "python",
   "nbconvert_exporter": "python",
   "pygments_lexer": "ipython3",
   "version": "3.12.8"
  }
 },
 "nbformat": 4,
 "nbformat_minor": 2
}
