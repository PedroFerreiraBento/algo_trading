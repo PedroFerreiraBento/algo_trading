{
 "cells": [
  {
   "cell_type": "code",
   "execution_count": 1,
   "metadata": {},
   "outputs": [],
   "source": [
    "import pytest\n",
    "import pandas as pd\n",
    "from algo_trading.position_handler import OperationHandler, OrderType, PositionStatus, OrderStatus\n"
   ]
  },
  {
   "cell_type": "code",
   "execution_count": 2,
   "metadata": {},
   "outputs": [],
   "source": [
    "handler = OperationHandler(initial_balance=10000)"
   ]
  },
  {
   "cell_type": "code",
   "execution_count": 3,
   "metadata": {},
   "outputs": [],
   "source": [
    "# Verifica se a parte fechada foi registrada no histórico\n",
    "closed_positions = handler.get_closed_positions()"
   ]
  },
  {
   "cell_type": "code",
   "execution_count": null,
   "metadata": {},
   "outputs": [],
   "source": [
    "handler.reset()"
   ]
  },
  {
   "cell_type": "code",
   "execution_count": null,
   "metadata": {},
   "outputs": [],
   "source": [
    "handler.create_order(OrderType.BUY, price=100, quantity=10, sl=95, tp=110)\n",
    "handler._execute_order(handler.pending_orders[0])\n",
    "\n",
    "position = handler.positions[0]\n",
    "handler.close_position(price=105, quantity=3, reason=\"Partial close\", position=position)\n",
    "handler.close_position(price=107, quantity=2, reason=\"Another partial close\", position=position)\n"
   ]
  },
  {
   "cell_type": "code",
   "execution_count": null,
   "metadata": {},
   "outputs": [],
   "source": [
    "handler.get_closed_positions()"
   ]
  },
  {
   "cell_type": "code",
   "execution_count": null,
   "metadata": {},
   "outputs": [],
   "source": [
    "class A:\n",
    "    def x(self):\n",
    "        pass\n",
    "\n",
    "a: \"A\" = 1\n",
    "a.x"
   ]
  },
  {
   "cell_type": "code",
   "execution_count": 11,
   "metadata": {},
   "outputs": [],
   "source": [
    "import yfinance as yf\n",
    "dat = yf.Ticker(\"EURUSD\")"
   ]
  },
  {
   "cell_type": "code",
   "execution_count": null,
   "metadata": {},
   "outputs": [],
   "source": [
    "dat.info"
   ]
  },
  {
   "cell_type": "code",
   "execution_count": null,
   "metadata": {},
   "outputs": [],
   "source": [
    "yf.Ticker(\"EURUSD=X\").history(period=\"max\")"
   ]
  },
  {
   "cell_type": "code",
   "execution_count": null,
   "metadata": {},
   "outputs": [],
   "source": [
    "x.info"
   ]
  },
  {
   "cell_type": "code",
   "execution_count": null,
   "metadata": {},
   "outputs": [],
   "source": [
    "class Validator:\n",
    "    _validated = False\n",
    "\n",
    "    @staticmethod\n",
    "    def validate():\n",
    "        if not Validator._validated:\n",
    "            print(\"Running validation...\")\n",
    "            Validator._validated = True  # Faz a validação\n",
    "        return Validator._validated\n",
    "\n",
    "def A():\n",
    "    if Validator.validate():\n",
    "        print(\"Function A called\")\n",
    "        B()\n",
    "\n",
    "def B():\n",
    "    if Validator.validate():\n",
    "        print(\"Function B called\")\n",
    "        C()\n",
    "\n",
    "def C():\n",
    "    if Validator.validate():\n",
    "        print(\"Function C called\")\n",
    "\n",
    "# Exemplo de chamada\n",
    "A()\n"
   ]
  },
  {
   "cell_type": "code",
   "execution_count": null,
   "metadata": {},
   "outputs": [],
   "source": [
    "import MetaTrader5 as mt5\n",
    "from datetime import datetime\n",
    "import pytz\n",
    "MetaTrader5"
   ]
  },
  {
   "cell_type": "code",
   "execution_count": null,
   "metadata": {},
   "outputs": [],
   "source": [
    "mt5.SymbolInfo"
   ]
  },
  {
   "cell_type": "code",
   "execution_count": null,
   "metadata": {},
   "outputs": [],
   "source": [
    "datetime.utcfromtimestamp(1672531200).replace(tzinfo=pytz.UTC)\n"
   ]
  },
  {
   "cell_type": "code",
   "execution_count": null,
   "metadata": {},
   "outputs": [],
   "source": [
    "2**64"
   ]
  },
  {
   "cell_type": "code",
   "execution_count": null,
   "metadata": {},
   "outputs": [],
   "source": [
    "import os\n",
    "\n",
    "def count_characters_in_directory(directory_path):\n",
    "    total_characters = 0\n",
    "\n",
    "    for root, _, files in os.walk(directory_path):\n",
    "        for file in files:\n",
    "            file_path = os.path.join(root, file)\n",
    "            try:\n",
    "                with open(file_path, 'r', encoding='utf-8') as f:\n",
    "                    content = f.read()\n",
    "                    total_characters += len(content)\n",
    "            except (UnicodeDecodeError, FileNotFoundError):\n",
    "                # Ignorar arquivos não legíveis ou inexistentes\n",
    "                print(f\"Warning: Could not read file {file_path}\")\n",
    "    \n",
    "    return total_characters\n",
    "\n",
    "if __name__ == \"__main__\":\n",
    "    total = count_characters_in_directory(\"..\")\n",
    "total"
   ]
  },
  {
   "cell_type": "code",
   "execution_count": 1,
   "metadata": {},
   "outputs": [],
   "source": [
    "import MetaTrader5 as mt5\n",
    "from algo_trading.sources.MetaTrader5_source.account.account import Account\n",
    "from algo_trading.sources.MetaTrader5_source.rates.rates import Rates\n",
    "from algo_trading.sources.MetaTrader5_source.models.metatrader import MqlAccountInfo, ENUM_TIMEFRAME"
   ]
  },
  {
   "cell_type": "code",
   "execution_count": 2,
   "metadata": {},
   "outputs": [
    {
     "name": "stderr",
     "output_type": "stream",
     "text": [
      "2025-01-02 13:45:18,937 - INFO - Successfully logged in to live account #10005257976\n"
     ]
    },
    {
     "name": "stderr",
     "output_type": "stream",
     "text": [
      "2025-01-02 13:45:18,958 - INFO - Live account data successfully updated.\n"
     ]
    },
    {
     "data": {
      "text/plain": [
       "MqlAccountInfo(login=10005257976, trade_mode=<ENUM_ACCOUNT_TRADE_MODE.ACCOUNT_TRADE_MODE_DEMO: 0>, leverage=100, limit_orders=200, margin_so_mode=<ENUM_ACCOUNT_STOPOUT_MODE.ACCOUNT_STOPOUT_MODE_PERCENT: 0>, trade_allowed=True, trade_expert=True, margin_mode=<ENUM_ACCOUNT_MARGIN_MODE.ACCOUNT_MARGIN_MODE_RETAIL_HEDGING: 2>, currency_digits=2, fifo_close=False, balance=100000.0, credit=0.0, profit=0.0, equity=100000.0, margin=0.0, margin_free=100000.0, margin_level=0.0, margin_so_call=50.0, margin_so_so=30.0, margin_initial=0.0, margin_maintenance=0.0, assets=0.0, liabilities=0.0, commission_blocked=0.0, name='Pedro Bento', server='MetaQuotes-Demo', currency='USD', company='MetaQuotes Ltd.', orders=[], positions=[], history_deals=[MqlTradeDeal(ticket=150429081042, order=0, time=datetime.datetime(2025, 1, 2, 15, 9, 19, tzinfo=datetime.timezone.utc), time_msc=datetime.datetime(2025, 1, 2, 15, 9, 19, 925000, tzinfo=datetime.timezone.utc), type=<ENUM_DEAL_TYPE.DEAL_TYPE_BALANCE: 2>, entry=<ENUM_DEAL_ENTRY.DEAL_ENTRY_IN: 0>, magic=0, position_id=0, reason=<ENUM_DEAL_REASON.DEAL_REASON_CLIENT: 0>, volume=0.0, price=0.0, commission=0.0, swap=0.0, profit=100000.0, fee=0.0, symbol='', comment='', external_id='')], is_backtest_account=False, rates_data=<class 'algo_trading.sources.MetaTrader5_source.rates.rates.Rates'>)"
      ]
     },
     "execution_count": 2,
     "metadata": {},
     "output_type": "execute_result"
    }
   ],
   "source": [
    "x = Account()\n",
    "x.login_live(login=10005257976, password=\"-a1qGwUt\", server=\"MetaQuotes-Demo\")"
   ]
  },
  {
   "cell_type": "code",
   "execution_count": 3,
   "metadata": {},
   "outputs": [
    {
     "data": {
      "text/html": [
       "<div>\n",
       "<style scoped>\n",
       "    .dataframe tbody tr th:only-of-type {\n",
       "        vertical-align: middle;\n",
       "    }\n",
       "\n",
       "    .dataframe tbody tr th {\n",
       "        vertical-align: top;\n",
       "    }\n",
       "\n",
       "    .dataframe thead th {\n",
       "        text-align: right;\n",
       "    }\n",
       "</style>\n",
       "<table border=\"1\" class=\"dataframe\">\n",
       "  <thead>\n",
       "    <tr style=\"text-align: right;\">\n",
       "      <th></th>\n",
       "      <th>time</th>\n",
       "      <th>bid</th>\n",
       "      <th>ask</th>\n",
       "      <th>time_msc</th>\n",
       "    </tr>\n",
       "  </thead>\n",
       "  <tbody>\n",
       "    <tr>\n",
       "      <th>0</th>\n",
       "      <td>2025-01-02 16:45:19+00:00</td>\n",
       "      <td>1.03116</td>\n",
       "      <td>1.03120</td>\n",
       "      <td>2025-01-02 16:45:19.365000+00:00</td>\n",
       "    </tr>\n",
       "    <tr>\n",
       "      <th>1</th>\n",
       "      <td>2025-01-02 16:45:19+00:00</td>\n",
       "      <td>1.03115</td>\n",
       "      <td>1.03120</td>\n",
       "      <td>2025-01-02 16:45:19.850000+00:00</td>\n",
       "    </tr>\n",
       "    <tr>\n",
       "      <th>2</th>\n",
       "      <td>2025-01-02 16:45:21+00:00</td>\n",
       "      <td>1.03115</td>\n",
       "      <td>1.03119</td>\n",
       "      <td>2025-01-02 16:45:21.052000+00:00</td>\n",
       "    </tr>\n",
       "    <tr>\n",
       "      <th>3</th>\n",
       "      <td>2025-01-02 16:45:22+00:00</td>\n",
       "      <td>1.03113</td>\n",
       "      <td>1.03117</td>\n",
       "      <td>2025-01-02 16:45:22.750000+00:00</td>\n",
       "    </tr>\n",
       "    <tr>\n",
       "      <th>4</th>\n",
       "      <td>2025-01-02 16:45:23+00:00</td>\n",
       "      <td>1.03113</td>\n",
       "      <td>1.03118</td>\n",
       "      <td>2025-01-02 16:45:23.250000+00:00</td>\n",
       "    </tr>\n",
       "    <tr>\n",
       "      <th>5</th>\n",
       "      <td>2025-01-02 16:45:23+00:00</td>\n",
       "      <td>1.03114</td>\n",
       "      <td>1.03118</td>\n",
       "      <td>2025-01-02 16:45:23.956000+00:00</td>\n",
       "    </tr>\n",
       "    <tr>\n",
       "      <th>6</th>\n",
       "      <td>2025-01-02 16:45:25+00:00</td>\n",
       "      <td>1.03115</td>\n",
       "      <td>1.03120</td>\n",
       "      <td>2025-01-02 16:45:25.159000+00:00</td>\n",
       "    </tr>\n",
       "    <tr>\n",
       "      <th>7</th>\n",
       "      <td>2025-01-02 16:45:25+00:00</td>\n",
       "      <td>1.03116</td>\n",
       "      <td>1.03120</td>\n",
       "      <td>2025-01-02 16:45:25.955000+00:00</td>\n",
       "    </tr>\n",
       "    <tr>\n",
       "      <th>8</th>\n",
       "      <td>2025-01-02 16:45:26+00:00</td>\n",
       "      <td>1.03114</td>\n",
       "      <td>1.03119</td>\n",
       "      <td>2025-01-02 16:45:26.455000+00:00</td>\n",
       "    </tr>\n",
       "    <tr>\n",
       "      <th>9</th>\n",
       "      <td>2025-01-02 16:45:29+00:00</td>\n",
       "      <td>1.03107</td>\n",
       "      <td>1.03112</td>\n",
       "      <td>2025-01-02 16:45:29.672000+00:00</td>\n",
       "    </tr>\n",
       "    <tr>\n",
       "      <th>10</th>\n",
       "      <td>2025-01-02 16:45:30+00:00</td>\n",
       "      <td>1.03106</td>\n",
       "      <td>1.03111</td>\n",
       "      <td>2025-01-02 16:45:30.169000+00:00</td>\n",
       "    </tr>\n",
       "    <tr>\n",
       "      <th>11</th>\n",
       "      <td>2025-01-02 16:45:32+00:00</td>\n",
       "      <td>1.03103</td>\n",
       "      <td>1.03108</td>\n",
       "      <td>2025-01-02 16:45:32.066000+00:00</td>\n",
       "    </tr>\n",
       "    <tr>\n",
       "      <th>12</th>\n",
       "      <td>2025-01-02 16:45:32+00:00</td>\n",
       "      <td>1.03105</td>\n",
       "      <td>1.03109</td>\n",
       "      <td>2025-01-02 16:45:32.568000+00:00</td>\n",
       "    </tr>\n",
       "    <tr>\n",
       "      <th>13</th>\n",
       "      <td>2025-01-02 16:45:33+00:00</td>\n",
       "      <td>1.03104</td>\n",
       "      <td>1.03109</td>\n",
       "      <td>2025-01-02 16:45:33.269000+00:00</td>\n",
       "    </tr>\n",
       "    <tr>\n",
       "      <th>14</th>\n",
       "      <td>2025-01-02 16:45:34+00:00</td>\n",
       "      <td>1.03105</td>\n",
       "      <td>1.03110</td>\n",
       "      <td>2025-01-02 16:45:34.875000+00:00</td>\n",
       "    </tr>\n",
       "  </tbody>\n",
       "</table>\n",
       "</div>"
      ],
      "text/plain": [
       "                        time      bid      ask  \\\n",
       "0  2025-01-02 16:45:19+00:00  1.03116  1.03120   \n",
       "1  2025-01-02 16:45:19+00:00  1.03115  1.03120   \n",
       "2  2025-01-02 16:45:21+00:00  1.03115  1.03119   \n",
       "3  2025-01-02 16:45:22+00:00  1.03113  1.03117   \n",
       "4  2025-01-02 16:45:23+00:00  1.03113  1.03118   \n",
       "5  2025-01-02 16:45:23+00:00  1.03114  1.03118   \n",
       "6  2025-01-02 16:45:25+00:00  1.03115  1.03120   \n",
       "7  2025-01-02 16:45:25+00:00  1.03116  1.03120   \n",
       "8  2025-01-02 16:45:26+00:00  1.03114  1.03119   \n",
       "9  2025-01-02 16:45:29+00:00  1.03107  1.03112   \n",
       "10 2025-01-02 16:45:30+00:00  1.03106  1.03111   \n",
       "11 2025-01-02 16:45:32+00:00  1.03103  1.03108   \n",
       "12 2025-01-02 16:45:32+00:00  1.03105  1.03109   \n",
       "13 2025-01-02 16:45:33+00:00  1.03104  1.03109   \n",
       "14 2025-01-02 16:45:34+00:00  1.03105  1.03110   \n",
       "\n",
       "                           time_msc  \n",
       "0  2025-01-02 16:45:19.365000+00:00  \n",
       "1  2025-01-02 16:45:19.850000+00:00  \n",
       "2  2025-01-02 16:45:21.052000+00:00  \n",
       "3  2025-01-02 16:45:22.750000+00:00  \n",
       "4  2025-01-02 16:45:23.250000+00:00  \n",
       "5  2025-01-02 16:45:23.956000+00:00  \n",
       "6  2025-01-02 16:45:25.159000+00:00  \n",
       "7  2025-01-02 16:45:25.955000+00:00  \n",
       "8  2025-01-02 16:45:26.455000+00:00  \n",
       "9  2025-01-02 16:45:29.672000+00:00  \n",
       "10 2025-01-02 16:45:30.169000+00:00  \n",
       "11 2025-01-02 16:45:32.066000+00:00  \n",
       "12 2025-01-02 16:45:32.568000+00:00  \n",
       "13 2025-01-02 16:45:33.269000+00:00  \n",
       "14 2025-01-02 16:45:34.875000+00:00  "
      ]
     },
     "execution_count": 3,
     "metadata": {},
     "output_type": "execute_result"
    }
   ],
   "source": [
    "x.live_account_data.rates_data.get_last_n_ticks(\"EURUSD\",  15)"
   ]
  },
  {
   "cell_type": "code",
   "execution_count": 11,
   "metadata": {},
   "outputs": [
    {
     "data": {
      "text/html": [
       "<div>\n",
       "<style scoped>\n",
       "    .dataframe tbody tr th:only-of-type {\n",
       "        vertical-align: middle;\n",
       "    }\n",
       "\n",
       "    .dataframe tbody tr th {\n",
       "        vertical-align: top;\n",
       "    }\n",
       "\n",
       "    .dataframe thead th {\n",
       "        text-align: right;\n",
       "    }\n",
       "</style>\n",
       "<table border=\"1\" class=\"dataframe\">\n",
       "  <thead>\n",
       "    <tr style=\"text-align: right;\">\n",
       "      <th></th>\n",
       "      <th>time</th>\n",
       "      <th>bid</th>\n",
       "      <th>ask</th>\n",
       "      <th>last</th>\n",
       "      <th>volume</th>\n",
       "      <th>time_msc</th>\n",
       "      <th>flags</th>\n",
       "      <th>volume_real</th>\n",
       "    </tr>\n",
       "  </thead>\n",
       "  <tbody>\n",
       "    <tr>\n",
       "      <th>0</th>\n",
       "      <td>1661904006</td>\n",
       "      <td>1.00122</td>\n",
       "      <td>1.00147</td>\n",
       "      <td>0.0</td>\n",
       "      <td>0</td>\n",
       "      <td>1661904006223</td>\n",
       "      <td>134</td>\n",
       "      <td>0.0</td>\n",
       "    </tr>\n",
       "    <tr>\n",
       "      <th>1</th>\n",
       "      <td>1661904006</td>\n",
       "      <td>1.00116</td>\n",
       "      <td>1.00161</td>\n",
       "      <td>0.0</td>\n",
       "      <td>0</td>\n",
       "      <td>1661904006230</td>\n",
       "      <td>134</td>\n",
       "      <td>0.0</td>\n",
       "    </tr>\n",
       "    <tr>\n",
       "      <th>2</th>\n",
       "      <td>1661904007</td>\n",
       "      <td>1.00116</td>\n",
       "      <td>1.00162</td>\n",
       "      <td>0.0</td>\n",
       "      <td>0</td>\n",
       "      <td>1661904007846</td>\n",
       "      <td>4</td>\n",
       "      <td>0.0</td>\n",
       "    </tr>\n",
       "    <tr>\n",
       "      <th>3</th>\n",
       "      <td>1661904009</td>\n",
       "      <td>1.00116</td>\n",
       "      <td>1.00161</td>\n",
       "      <td>0.0</td>\n",
       "      <td>0</td>\n",
       "      <td>1661904009711</td>\n",
       "      <td>4</td>\n",
       "      <td>0.0</td>\n",
       "    </tr>\n",
       "    <tr>\n",
       "      <th>4</th>\n",
       "      <td>1661904010</td>\n",
       "      <td>1.00121</td>\n",
       "      <td>1.00161</td>\n",
       "      <td>0.0</td>\n",
       "      <td>0</td>\n",
       "      <td>1661904010094</td>\n",
       "      <td>130</td>\n",
       "      <td>0.0</td>\n",
       "    </tr>\n",
       "  </tbody>\n",
       "</table>\n",
       "</div>"
      ],
      "text/plain": [
       "         time      bid      ask  last  volume       time_msc  flags  \\\n",
       "0  1661904006  1.00122  1.00147   0.0       0  1661904006223    134   \n",
       "1  1661904006  1.00116  1.00161   0.0       0  1661904006230    134   \n",
       "2  1661904007  1.00116  1.00162   0.0       0  1661904007846      4   \n",
       "3  1661904009  1.00116  1.00161   0.0       0  1661904009711      4   \n",
       "4  1661904010  1.00121  1.00161   0.0       0  1661904010094    130   \n",
       "\n",
       "   volume_real  \n",
       "0          0.0  \n",
       "1          0.0  \n",
       "2          0.0  \n",
       "3          0.0  \n",
       "4          0.0  "
      ]
     },
     "execution_count": 11,
     "metadata": {},
     "output_type": "execute_result"
    }
   ],
   "source": [
    "\n",
    "\n",
    "import pytz\n",
    "from datetime import datetime\n",
    "import pandas as pd\n",
    "timezone = pytz.timezone(\"Etc/UTC\")\n",
    "\n",
    "pd.DataFrame(mt5.copy_ticks_from(\"EURUSD\", pd.to_datetime(1635300134838, unit=\"ms\", utc=True),5,mt5.TICK_FLAG_LAST))"
   ]
  },
  {
   "cell_type": "code",
   "execution_count": 48,
   "metadata": {},
   "outputs": [
    {
     "data": {
      "text/plain": [
       "numpy.void"
      ]
     },
     "execution_count": 48,
     "metadata": {},
     "output_type": "execute_result"
    }
   ],
   "source": [
    "type(mt5.copy_ticks_from(\"EURUSD\", datetime(2024, 12, 31, tzinfo=timezone),5,mt5.COPY_TICKS_INFO)[0])"
   ]
  },
  {
   "cell_type": "code",
   "execution_count": 45,
   "metadata": {},
   "outputs": [
    {
     "data": {
      "text/plain": [
       "118"
      ]
     },
     "execution_count": 45,
     "metadata": {},
     "output_type": "execute_result"
    }
   ],
   "source": [
    "mt5.TICK_FLAG_SELL + mt5.TICK_FLAG_BUY + mt5.TICK_FLAG_VOLUME + mt5.TICK_FLAG_LAST + mt5.TICK_FLAG_ASK + mt5.TICK_FLAG_BID"
   ]
  },
  {
   "cell_type": "code",
   "execution_count": 12,
   "metadata": {},
   "outputs": [
    {
     "data": {
      "text/plain": [
       "Timestamp('2022-08-31 00:00:06.223000+0000', tz='UTC')"
      ]
     },
     "execution_count": 12,
     "metadata": {},
     "output_type": "execute_result"
    }
   ],
   "source": [
    "pd.to_datetime(1661904006223, unit=\"ms\", utc=True)"
   ]
  }
 ],
 "metadata": {
  "kernelspec": {
   "display_name": "backtestenv",
   "language": "python",
   "name": "python3"
  },
  "language_info": {
   "codemirror_mode": {
    "name": "ipython",
    "version": 3
   },
   "file_extension": ".py",
   "mimetype": "text/x-python",
   "name": "python",
   "nbconvert_exporter": "python",
   "pygments_lexer": "ipython3",
   "version": "3.12.8"
  }
 },
 "nbformat": 4,
 "nbformat_minor": 2
}
