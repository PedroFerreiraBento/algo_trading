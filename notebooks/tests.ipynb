{
 "cells": [
  {
   "cell_type": "code",
   "execution_count": 1,
   "metadata": {},
   "outputs": [],
   "source": [
    "import pytest\n",
    "import pandas as pd\n",
    "from algo_trading.position_handler import OperationHandler, OrderType, PositionStatus, OrderStatus\n"
   ]
  },
  {
   "cell_type": "code",
   "execution_count": 2,
   "metadata": {},
   "outputs": [],
   "source": [
    "handler = OperationHandler(initial_balance=10000)"
   ]
  },
  {
   "cell_type": "code",
   "execution_count": 3,
   "metadata": {},
   "outputs": [],
   "source": [
    "# Verifica se a parte fechada foi registrada no histórico\n",
    "closed_positions = handler.get_closed_positions()"
   ]
  },
  {
   "cell_type": "code",
   "execution_count": 4,
   "metadata": {},
   "outputs": [
    {
     "name": "stderr",
     "output_type": "stream",
     "text": [
      "2024-12-26 13:16:50,940 - INFO - File historical_orders.pkl removed successfully.\n",
      "2024-12-26 13:16:50,943 - INFO - File closed_positions.pkl removed successfully.\n",
      "2024-12-26 13:16:50,945 - INFO - OperationHandler has been reset. All positions, orders, and historical data have been cleared.\n"
     ]
    }
   ],
   "source": [
    "handler.reset()"
   ]
  },
  {
   "cell_type": "code",
   "execution_count": 5,
   "metadata": {},
   "outputs": [
    {
     "name": "stderr",
     "output_type": "stream",
     "text": [
      "2024-12-26 13:16:50,974 - INFO - Order created: {'order_id': 1, 'type': <OrderType.BUY: 1>, 'price': 100, 'quantity': 10, 'sl': 95, 'tp': 110, 'status': <OrderStatus.PENDING: 1>, 'max_time_active': None, 'creation_time': Timestamp('2024-12-26 13:16:50.974619'), 'reason': None, 'position_reference': None}\n",
      "2024-12-26 13:16:50,978 - INFO - Order 1 executed and converted to position 1.\n",
      "2024-12-26 13:16:50,990 - INFO - Appended data to Pickle file: historical_orders.pkl\n",
      "2024-12-26 13:16:50,993 - INFO - Appended Order {'order_id': 1, 'type': <OrderType.BUY: 1>, 'price': 100, 'quantity': 10, 'sl': 95, 'tp': 110, 'status': <OrderStatus.EXECUTED: 2>, 'max_time_active': None, 'creation_time': Timestamp('2024-12-26 13:16:50.974619'), 'reason': None, 'position_reference': <algo_trading.position_handler.Position object at 0x000001FFDDC06A80>} to historical_orders.pkl\n",
      "2024-12-26 13:16:50,997 - INFO - Position 1 updated with remaining quantity: 7\n",
      "2024-12-26 13:16:51,000 - INFO - Position 2 closed with profit/loss: 15.00, Reason: Partial close - Partial Close\n",
      "2024-12-26 13:16:51,013 - INFO - Appended data to Pickle file: closed_positions.pkl\n",
      "2024-12-26 13:16:51,018 - INFO - Appended Position {'position_id': 2, 'type': <OrderType.BUY: 1>, 'open_price': 100, 'quantity': 3, 'sl': None, 'tp': None, 'open_time': Timestamp('2024-12-26 13:16:50.974619'), 'status': <PositionStatus.CLOSED: 2>, 'close_price': 105, 'close_time': Timestamp('2024-12-26 13:16:51.000103'), 'profit_loss': 15, 'reason': 'Partial close - Partial Close'} to closed_positions.pkl\n",
      "2024-12-26 13:16:51,020 - INFO - Position 2 partially closed and saved to historical positions.\n",
      "2024-12-26 13:16:51,023 - INFO - Position 1 updated with remaining quantity: 5\n",
      "2024-12-26 13:16:51,026 - INFO - Position 3 closed with profit/loss: 14.00, Reason: Another partial close - Partial Close\n",
      "2024-12-26 13:16:51,039 - INFO - Appended data to Pickle file: closed_positions.pkl\n",
      "2024-12-26 13:16:51,042 - INFO - Appended Position {'position_id': 3, 'type': <OrderType.BUY: 1>, 'open_price': 100, 'quantity': 2, 'sl': None, 'tp': None, 'open_time': Timestamp('2024-12-26 13:16:50.974619'), 'status': <PositionStatus.CLOSED: 2>, 'close_price': 107, 'close_time': Timestamp('2024-12-26 13:16:51.025693'), 'profit_loss': 14, 'reason': 'Another partial close - Partial Close'} to closed_positions.pkl\n",
      "2024-12-26 13:16:51,045 - INFO - Position 3 partially closed and saved to historical positions.\n"
     ]
    }
   ],
   "source": [
    "handler.create_order(OrderType.BUY, price=100, quantity=10, sl=95, tp=110)\n",
    "handler._execute_order(handler.pending_orders[0])\n",
    "\n",
    "position = handler.positions[0]\n",
    "handler.close_position(price=105, quantity=3, reason=\"Partial close\", position=position)\n",
    "handler.close_position(price=107, quantity=2, reason=\"Another partial close\", position=position)\n"
   ]
  },
  {
   "cell_type": "code",
   "execution_count": 6,
   "metadata": {},
   "outputs": [
    {
     "data": {
      "text/html": [
       "<div>\n",
       "<style scoped>\n",
       "    .dataframe tbody tr th:only-of-type {\n",
       "        vertical-align: middle;\n",
       "    }\n",
       "\n",
       "    .dataframe tbody tr th {\n",
       "        vertical-align: top;\n",
       "    }\n",
       "\n",
       "    .dataframe thead th {\n",
       "        text-align: right;\n",
       "    }\n",
       "</style>\n",
       "<table border=\"1\" class=\"dataframe\">\n",
       "  <thead>\n",
       "    <tr style=\"text-align: right;\">\n",
       "      <th></th>\n",
       "      <th>position_id</th>\n",
       "      <th>type</th>\n",
       "      <th>open_price</th>\n",
       "      <th>quantity</th>\n",
       "      <th>sl</th>\n",
       "      <th>tp</th>\n",
       "      <th>open_time</th>\n",
       "      <th>status</th>\n",
       "      <th>close_price</th>\n",
       "      <th>close_time</th>\n",
       "      <th>profit_loss</th>\n",
       "      <th>reason</th>\n",
       "    </tr>\n",
       "  </thead>\n",
       "  <tbody>\n",
       "    <tr>\n",
       "      <th>0</th>\n",
       "      <td>2</td>\n",
       "      <td>OrderType.BUY</td>\n",
       "      <td>100</td>\n",
       "      <td>3</td>\n",
       "      <td>None</td>\n",
       "      <td>None</td>\n",
       "      <td>2024-12-26 13:16:50.974619</td>\n",
       "      <td>PositionStatus.CLOSED</td>\n",
       "      <td>105</td>\n",
       "      <td>2024-12-26 13:16:51.000103</td>\n",
       "      <td>15</td>\n",
       "      <td>Partial close - Partial Close</td>\n",
       "    </tr>\n",
       "    <tr>\n",
       "      <th>1</th>\n",
       "      <td>3</td>\n",
       "      <td>OrderType.BUY</td>\n",
       "      <td>100</td>\n",
       "      <td>2</td>\n",
       "      <td>None</td>\n",
       "      <td>None</td>\n",
       "      <td>2024-12-26 13:16:50.974619</td>\n",
       "      <td>PositionStatus.CLOSED</td>\n",
       "      <td>107</td>\n",
       "      <td>2024-12-26 13:16:51.025693</td>\n",
       "      <td>14</td>\n",
       "      <td>Another partial close - Partial Close</td>\n",
       "    </tr>\n",
       "  </tbody>\n",
       "</table>\n",
       "</div>"
      ],
      "text/plain": [
       "   position_id           type  open_price  quantity    sl    tp  \\\n",
       "0            2  OrderType.BUY         100         3  None  None   \n",
       "1            3  OrderType.BUY         100         2  None  None   \n",
       "\n",
       "                   open_time                 status  close_price  \\\n",
       "0 2024-12-26 13:16:50.974619  PositionStatus.CLOSED          105   \n",
       "1 2024-12-26 13:16:50.974619  PositionStatus.CLOSED          107   \n",
       "\n",
       "                  close_time  profit_loss  \\\n",
       "0 2024-12-26 13:16:51.000103           15   \n",
       "1 2024-12-26 13:16:51.025693           14   \n",
       "\n",
       "                                  reason  \n",
       "0          Partial close - Partial Close  \n",
       "1  Another partial close - Partial Close  "
      ]
     },
     "execution_count": 6,
     "metadata": {},
     "output_type": "execute_result"
    }
   ],
   "source": [
    "handler.get_closed_positions()"
   ]
  },
  {
   "cell_type": "code",
   "execution_count": 3,
   "metadata": {},
   "outputs": [
    {
     "ename": "AttributeError",
     "evalue": "'int' object has no attribute 'x'",
     "output_type": "error",
     "traceback": [
      "\u001b[1;31m---------------------------------------------------------------------------\u001b[0m",
      "\u001b[1;31mAttributeError\u001b[0m                            Traceback (most recent call last)",
      "Cell \u001b[1;32mIn[3], line 6\u001b[0m\n\u001b[0;32m      3\u001b[0m         \u001b[38;5;28;01mpass\u001b[39;00m\n\u001b[0;32m      5\u001b[0m a: \u001b[38;5;124m\"\u001b[39m\u001b[38;5;124mA\u001b[39m\u001b[38;5;124m\"\u001b[39m \u001b[38;5;241m=\u001b[39m \u001b[38;5;241m1\u001b[39m\n\u001b[1;32m----> 6\u001b[0m a\u001b[38;5;241m.\u001b[39mx\n",
      "\u001b[1;31mAttributeError\u001b[0m: 'int' object has no attribute 'x'"
     ]
    }
   ],
   "source": [
    "class A:\n",
    "    def x(self):\n",
    "        pass\n",
    "\n",
    "a: \"A\" = 1\n",
    "a.x"
   ]
  },
  {
   "cell_type": "code",
   "execution_count": 11,
   "metadata": {},
   "outputs": [],
   "source": [
    "import yfinance as yf\n",
    "dat = yf.Ticker(\"EURUSD\")"
   ]
  },
  {
   "cell_type": "code",
   "execution_count": 13,
   "metadata": {},
   "outputs": [
    {
     "ename": "HTTPError",
     "evalue": "404 Client Error: Not Found for url: https://query2.finance.yahoo.com/v6/finance/quoteSummary/EURUSD?modules=financialData&modules=quoteType&modules=defaultKeyStatistics&modules=assetProfile&modules=summaryDetail&ssl=true",
     "output_type": "error",
     "traceback": [
      "\u001b[1;31m---------------------------------------------------------------------------\u001b[0m",
      "\u001b[1;31mHTTPError\u001b[0m                                 Traceback (most recent call last)",
      "Cell \u001b[1;32mIn[13], line 1\u001b[0m\n\u001b[1;32m----> 1\u001b[0m dat\u001b[38;5;241m.\u001b[39minfo\n",
      "File \u001b[1;32mc:\\Users\\pedro\\Anaconda3\\envs\\backtestenv\\Lib\\site-packages\\yfinance\\ticker.py:142\u001b[0m, in \u001b[0;36mTicker.info\u001b[1;34m(self)\u001b[0m\n\u001b[0;32m    140\u001b[0m \u001b[38;5;129m@property\u001b[39m\n\u001b[0;32m    141\u001b[0m \u001b[38;5;28;01mdef\u001b[39;00m \u001b[38;5;21minfo\u001b[39m(\u001b[38;5;28mself\u001b[39m) \u001b[38;5;241m-\u001b[39m\u001b[38;5;241m>\u001b[39m \u001b[38;5;28mdict\u001b[39m:\n\u001b[1;32m--> 142\u001b[0m     \u001b[38;5;28;01mreturn\u001b[39;00m \u001b[38;5;28mself\u001b[39m\u001b[38;5;241m.\u001b[39mget_info()\n",
      "File \u001b[1;32mc:\\Users\\pedro\\Anaconda3\\envs\\backtestenv\\Lib\\site-packages\\yfinance\\base.py:1678\u001b[0m, in \u001b[0;36mTickerBase.get_info\u001b[1;34m(self, proxy)\u001b[0m\n\u001b[0;32m   1676\u001b[0m \u001b[38;5;28;01mdef\u001b[39;00m \u001b[38;5;21mget_info\u001b[39m(\u001b[38;5;28mself\u001b[39m, proxy\u001b[38;5;241m=\u001b[39m\u001b[38;5;28;01mNone\u001b[39;00m) \u001b[38;5;241m-\u001b[39m\u001b[38;5;241m>\u001b[39m \u001b[38;5;28mdict\u001b[39m:\n\u001b[0;32m   1677\u001b[0m     \u001b[38;5;28mself\u001b[39m\u001b[38;5;241m.\u001b[39m_quote\u001b[38;5;241m.\u001b[39mproxy \u001b[38;5;241m=\u001b[39m proxy\n\u001b[1;32m-> 1678\u001b[0m     data \u001b[38;5;241m=\u001b[39m \u001b[38;5;28mself\u001b[39m\u001b[38;5;241m.\u001b[39m_quote\u001b[38;5;241m.\u001b[39minfo\n\u001b[0;32m   1679\u001b[0m     \u001b[38;5;28;01mreturn\u001b[39;00m data\n",
      "File \u001b[1;32mc:\\Users\\pedro\\Anaconda3\\envs\\backtestenv\\Lib\\site-packages\\yfinance\\scrapers\\quote.py:571\u001b[0m, in \u001b[0;36mQuote.info\u001b[1;34m(self)\u001b[0m\n\u001b[0;32m    568\u001b[0m \u001b[38;5;129m@property\u001b[39m\n\u001b[0;32m    569\u001b[0m \u001b[38;5;28;01mdef\u001b[39;00m \u001b[38;5;21minfo\u001b[39m(\u001b[38;5;28mself\u001b[39m) \u001b[38;5;241m-\u001b[39m\u001b[38;5;241m>\u001b[39m \u001b[38;5;28mdict\u001b[39m:\n\u001b[0;32m    570\u001b[0m     \u001b[38;5;28;01mif\u001b[39;00m \u001b[38;5;28mself\u001b[39m\u001b[38;5;241m.\u001b[39m_info \u001b[38;5;129;01mis\u001b[39;00m \u001b[38;5;28;01mNone\u001b[39;00m:\n\u001b[1;32m--> 571\u001b[0m         \u001b[38;5;28mself\u001b[39m\u001b[38;5;241m.\u001b[39m_fetch(\u001b[38;5;28mself\u001b[39m\u001b[38;5;241m.\u001b[39mproxy)\n\u001b[0;32m    572\u001b[0m         \u001b[38;5;28mself\u001b[39m\u001b[38;5;241m.\u001b[39m_fetch_complementary(\u001b[38;5;28mself\u001b[39m\u001b[38;5;241m.\u001b[39mproxy)\n\u001b[0;32m    574\u001b[0m     \u001b[38;5;28;01mreturn\u001b[39;00m \u001b[38;5;28mself\u001b[39m\u001b[38;5;241m.\u001b[39m_info\n",
      "File \u001b[1;32mc:\\Users\\pedro\\Anaconda3\\envs\\backtestenv\\Lib\\site-packages\\yfinance\\scrapers\\quote.py:600\u001b[0m, in \u001b[0;36mQuote._fetch\u001b[1;34m(self, proxy)\u001b[0m\n\u001b[0;32m    598\u001b[0m modules \u001b[38;5;241m=\u001b[39m [\u001b[38;5;124m'\u001b[39m\u001b[38;5;124mfinancialData\u001b[39m\u001b[38;5;124m'\u001b[39m, \u001b[38;5;124m'\u001b[39m\u001b[38;5;124mquoteType\u001b[39m\u001b[38;5;124m'\u001b[39m, \u001b[38;5;124m'\u001b[39m\u001b[38;5;124mdefaultKeyStatistics\u001b[39m\u001b[38;5;124m'\u001b[39m, \u001b[38;5;124m'\u001b[39m\u001b[38;5;124massetProfile\u001b[39m\u001b[38;5;124m'\u001b[39m, \u001b[38;5;124m'\u001b[39m\u001b[38;5;124msummaryDetail\u001b[39m\u001b[38;5;124m'\u001b[39m]\n\u001b[0;32m    599\u001b[0m params_dict \u001b[38;5;241m=\u001b[39m {\u001b[38;5;124m\"\u001b[39m\u001b[38;5;124mmodules\u001b[39m\u001b[38;5;124m\"\u001b[39m: modules, \u001b[38;5;124m\"\u001b[39m\u001b[38;5;124mssl\u001b[39m\u001b[38;5;124m\"\u001b[39m: \u001b[38;5;124m\"\u001b[39m\u001b[38;5;124mtrue\u001b[39m\u001b[38;5;124m\"\u001b[39m}\n\u001b[1;32m--> 600\u001b[0m result \u001b[38;5;241m=\u001b[39m \u001b[38;5;28mself\u001b[39m\u001b[38;5;241m.\u001b[39m_data\u001b[38;5;241m.\u001b[39mget_raw_json(\n\u001b[0;32m    601\u001b[0m     _BASIC_URL_ \u001b[38;5;241m+\u001b[39m \u001b[38;5;124mf\u001b[39m\u001b[38;5;124m\"\u001b[39m\u001b[38;5;124m/\u001b[39m\u001b[38;5;132;01m{\u001b[39;00m\u001b[38;5;28mself\u001b[39m\u001b[38;5;241m.\u001b[39m_data\u001b[38;5;241m.\u001b[39mticker\u001b[38;5;132;01m}\u001b[39;00m\u001b[38;5;124m\"\u001b[39m, params\u001b[38;5;241m=\u001b[39mparams_dict, proxy\u001b[38;5;241m=\u001b[39mproxy\n\u001b[0;32m    602\u001b[0m )\n\u001b[0;32m    603\u001b[0m result[\u001b[38;5;124m\"\u001b[39m\u001b[38;5;124mquoteSummary\u001b[39m\u001b[38;5;124m\"\u001b[39m][\u001b[38;5;124m\"\u001b[39m\u001b[38;5;124mresult\u001b[39m\u001b[38;5;124m\"\u001b[39m][\u001b[38;5;241m0\u001b[39m][\u001b[38;5;124m\"\u001b[39m\u001b[38;5;124msymbol\u001b[39m\u001b[38;5;124m\"\u001b[39m] \u001b[38;5;241m=\u001b[39m \u001b[38;5;28mself\u001b[39m\u001b[38;5;241m.\u001b[39m_data\u001b[38;5;241m.\u001b[39mticker\n\u001b[0;32m    604\u001b[0m query1_info \u001b[38;5;241m=\u001b[39m \u001b[38;5;28mnext\u001b[39m(\n\u001b[0;32m    605\u001b[0m     (info \u001b[38;5;28;01mfor\u001b[39;00m info \u001b[38;5;129;01min\u001b[39;00m result\u001b[38;5;241m.\u001b[39mget(\u001b[38;5;124m\"\u001b[39m\u001b[38;5;124mquoteSummary\u001b[39m\u001b[38;5;124m\"\u001b[39m, {})\u001b[38;5;241m.\u001b[39mget(\u001b[38;5;124m\"\u001b[39m\u001b[38;5;124mresult\u001b[39m\u001b[38;5;124m\"\u001b[39m, []) \u001b[38;5;28;01mif\u001b[39;00m info[\u001b[38;5;124m\"\u001b[39m\u001b[38;5;124msymbol\u001b[39m\u001b[38;5;124m\"\u001b[39m] \u001b[38;5;241m==\u001b[39m \u001b[38;5;28mself\u001b[39m\u001b[38;5;241m.\u001b[39m_data\u001b[38;5;241m.\u001b[39mticker),\n\u001b[0;32m    606\u001b[0m     \u001b[38;5;28;01mNone\u001b[39;00m,\n\u001b[0;32m    607\u001b[0m )\n",
      "File \u001b[1;32mc:\\Users\\pedro\\Anaconda3\\envs\\backtestenv\\Lib\\site-packages\\yfinance\\data.py:75\u001b[0m, in \u001b[0;36mTickerData.get_raw_json\u001b[1;34m(self, url, user_agent_headers, params, proxy, timeout)\u001b[0m\n\u001b[0;32m     73\u001b[0m \u001b[38;5;28;01mdef\u001b[39;00m \u001b[38;5;21mget_raw_json\u001b[39m(\u001b[38;5;28mself\u001b[39m, url, user_agent_headers\u001b[38;5;241m=\u001b[39m\u001b[38;5;28;01mNone\u001b[39;00m, params\u001b[38;5;241m=\u001b[39m\u001b[38;5;28;01mNone\u001b[39;00m, proxy\u001b[38;5;241m=\u001b[39m\u001b[38;5;28;01mNone\u001b[39;00m, timeout\u001b[38;5;241m=\u001b[39m\u001b[38;5;241m30\u001b[39m):\n\u001b[0;32m     74\u001b[0m     response \u001b[38;5;241m=\u001b[39m \u001b[38;5;28mself\u001b[39m\u001b[38;5;241m.\u001b[39mget(url, user_agent_headers\u001b[38;5;241m=\u001b[39muser_agent_headers, params\u001b[38;5;241m=\u001b[39mparams, proxy\u001b[38;5;241m=\u001b[39mproxy, timeout\u001b[38;5;241m=\u001b[39mtimeout)\n\u001b[1;32m---> 75\u001b[0m     response\u001b[38;5;241m.\u001b[39mraise_for_status()\n\u001b[0;32m     76\u001b[0m     \u001b[38;5;28;01mreturn\u001b[39;00m response\u001b[38;5;241m.\u001b[39mjson()\n",
      "File \u001b[1;32mc:\\Users\\pedro\\Anaconda3\\envs\\backtestenv\\Lib\\site-packages\\requests\\models.py:1024\u001b[0m, in \u001b[0;36mResponse.raise_for_status\u001b[1;34m(self)\u001b[0m\n\u001b[0;32m   1019\u001b[0m     http_error_msg \u001b[38;5;241m=\u001b[39m (\n\u001b[0;32m   1020\u001b[0m         \u001b[38;5;124mf\u001b[39m\u001b[38;5;124m\"\u001b[39m\u001b[38;5;132;01m{\u001b[39;00m\u001b[38;5;28mself\u001b[39m\u001b[38;5;241m.\u001b[39mstatus_code\u001b[38;5;132;01m}\u001b[39;00m\u001b[38;5;124m Server Error: \u001b[39m\u001b[38;5;132;01m{\u001b[39;00mreason\u001b[38;5;132;01m}\u001b[39;00m\u001b[38;5;124m for url: \u001b[39m\u001b[38;5;132;01m{\u001b[39;00m\u001b[38;5;28mself\u001b[39m\u001b[38;5;241m.\u001b[39murl\u001b[38;5;132;01m}\u001b[39;00m\u001b[38;5;124m\"\u001b[39m\n\u001b[0;32m   1021\u001b[0m     )\n\u001b[0;32m   1023\u001b[0m \u001b[38;5;28;01mif\u001b[39;00m http_error_msg:\n\u001b[1;32m-> 1024\u001b[0m     \u001b[38;5;28;01mraise\u001b[39;00m HTTPError(http_error_msg, response\u001b[38;5;241m=\u001b[39m\u001b[38;5;28mself\u001b[39m)\n",
      "\u001b[1;31mHTTPError\u001b[0m: 404 Client Error: Not Found for url: https://query2.finance.yahoo.com/v6/finance/quoteSummary/EURUSD?modules=financialData&modules=quoteType&modules=defaultKeyStatistics&modules=assetProfile&modules=summaryDetail&ssl=true"
     ]
    }
   ],
   "source": [
    "dat.info"
   ]
  },
  {
   "cell_type": "code",
   "execution_count": 26,
   "metadata": {},
   "outputs": [
    {
     "name": "stderr",
     "output_type": "stream",
     "text": [
      "c:\\Users\\pedro\\Anaconda3\\envs\\backtestenv\\Lib\\site-packages\\yfinance\\utils.py:771: FutureWarning: The 'unit' keyword in TimedeltaIndex construction is deprecated and will be removed in a future version. Use pd.to_timedelta instead.\n",
      "  df.index += _pd.TimedeltaIndex(dst_error_hours, 'h')\n"
     ]
    },
    {
     "data": {
      "text/html": [
       "<div>\n",
       "<style scoped>\n",
       "    .dataframe tbody tr th:only-of-type {\n",
       "        vertical-align: middle;\n",
       "    }\n",
       "\n",
       "    .dataframe tbody tr th {\n",
       "        vertical-align: top;\n",
       "    }\n",
       "\n",
       "    .dataframe thead th {\n",
       "        text-align: right;\n",
       "    }\n",
       "</style>\n",
       "<table border=\"1\" class=\"dataframe\">\n",
       "  <thead>\n",
       "    <tr style=\"text-align: right;\">\n",
       "      <th></th>\n",
       "      <th>Open</th>\n",
       "      <th>High</th>\n",
       "      <th>Low</th>\n",
       "      <th>Close</th>\n",
       "      <th>Volume</th>\n",
       "      <th>Dividends</th>\n",
       "      <th>Stock Splits</th>\n",
       "    </tr>\n",
       "    <tr>\n",
       "      <th>Date</th>\n",
       "      <th></th>\n",
       "      <th></th>\n",
       "      <th></th>\n",
       "      <th></th>\n",
       "      <th></th>\n",
       "      <th></th>\n",
       "      <th></th>\n",
       "    </tr>\n",
       "  </thead>\n",
       "  <tbody>\n",
       "    <tr>\n",
       "      <th>2003-12-01 00:00:00+00:00</th>\n",
       "      <td>1.203398</td>\n",
       "      <td>1.204007</td>\n",
       "      <td>1.194401</td>\n",
       "      <td>1.196501</td>\n",
       "      <td>0</td>\n",
       "      <td>0.0</td>\n",
       "      <td>0.0</td>\n",
       "    </tr>\n",
       "    <tr>\n",
       "      <th>2003-12-02 00:00:00+00:00</th>\n",
       "      <td>1.196101</td>\n",
       "      <td>1.210903</td>\n",
       "      <td>1.194600</td>\n",
       "      <td>1.208897</td>\n",
       "      <td>0</td>\n",
       "      <td>0.0</td>\n",
       "      <td>0.0</td>\n",
       "    </tr>\n",
       "    <tr>\n",
       "      <th>2003-12-03 00:00:00+00:00</th>\n",
       "      <td>1.209000</td>\n",
       "      <td>1.213003</td>\n",
       "      <td>1.207700</td>\n",
       "      <td>1.212298</td>\n",
       "      <td>0</td>\n",
       "      <td>0.0</td>\n",
       "      <td>0.0</td>\n",
       "    </tr>\n",
       "    <tr>\n",
       "      <th>2003-12-04 00:00:00+00:00</th>\n",
       "      <td>1.212004</td>\n",
       "      <td>1.214403</td>\n",
       "      <td>1.204398</td>\n",
       "      <td>1.208094</td>\n",
       "      <td>0</td>\n",
       "      <td>0.0</td>\n",
       "      <td>0.0</td>\n",
       "    </tr>\n",
       "    <tr>\n",
       "      <th>2003-12-05 00:00:00+00:00</th>\n",
       "      <td>1.207802</td>\n",
       "      <td>1.219096</td>\n",
       "      <td>1.206593</td>\n",
       "      <td>1.218695</td>\n",
       "      <td>0</td>\n",
       "      <td>0.0</td>\n",
       "      <td>0.0</td>\n",
       "    </tr>\n",
       "    <tr>\n",
       "      <th>...</th>\n",
       "      <td>...</td>\n",
       "      <td>...</td>\n",
       "      <td>...</td>\n",
       "      <td>...</td>\n",
       "      <td>...</td>\n",
       "      <td>...</td>\n",
       "      <td>...</td>\n",
       "    </tr>\n",
       "    <tr>\n",
       "      <th>2024-12-24 00:00:00+00:00</th>\n",
       "      <td>1.040583</td>\n",
       "      <td>1.041124</td>\n",
       "      <td>1.038745</td>\n",
       "      <td>1.040583</td>\n",
       "      <td>0</td>\n",
       "      <td>0.0</td>\n",
       "      <td>0.0</td>\n",
       "    </tr>\n",
       "    <tr>\n",
       "      <th>2024-12-25 00:00:00+00:00</th>\n",
       "      <td>1.040258</td>\n",
       "      <td>1.043297</td>\n",
       "      <td>1.040150</td>\n",
       "      <td>1.040258</td>\n",
       "      <td>0</td>\n",
       "      <td>0.0</td>\n",
       "      <td>0.0</td>\n",
       "    </tr>\n",
       "    <tr>\n",
       "      <th>2024-12-26 00:00:00+00:00</th>\n",
       "      <td>1.039955</td>\n",
       "      <td>1.042535</td>\n",
       "      <td>1.039145</td>\n",
       "      <td>1.039955</td>\n",
       "      <td>0</td>\n",
       "      <td>0.0</td>\n",
       "      <td>0.0</td>\n",
       "    </tr>\n",
       "    <tr>\n",
       "      <th>2024-12-27 00:00:00+00:00</th>\n",
       "      <td>1.042318</td>\n",
       "      <td>1.044495</td>\n",
       "      <td>1.040669</td>\n",
       "      <td>1.042318</td>\n",
       "      <td>0</td>\n",
       "      <td>0.0</td>\n",
       "      <td>0.0</td>\n",
       "    </tr>\n",
       "    <tr>\n",
       "      <th>2024-12-30 00:00:00+00:00</th>\n",
       "      <td>1.043079</td>\n",
       "      <td>1.046025</td>\n",
       "      <td>1.037775</td>\n",
       "      <td>1.040691</td>\n",
       "      <td>0</td>\n",
       "      <td>0.0</td>\n",
       "      <td>0.0</td>\n",
       "    </tr>\n",
       "  </tbody>\n",
       "</table>\n",
       "<p>5472 rows × 7 columns</p>\n",
       "</div>"
      ],
      "text/plain": [
       "                               Open      High       Low     Close  Volume  \\\n",
       "Date                                                                        \n",
       "2003-12-01 00:00:00+00:00  1.203398  1.204007  1.194401  1.196501       0   \n",
       "2003-12-02 00:00:00+00:00  1.196101  1.210903  1.194600  1.208897       0   \n",
       "2003-12-03 00:00:00+00:00  1.209000  1.213003  1.207700  1.212298       0   \n",
       "2003-12-04 00:00:00+00:00  1.212004  1.214403  1.204398  1.208094       0   \n",
       "2003-12-05 00:00:00+00:00  1.207802  1.219096  1.206593  1.218695       0   \n",
       "...                             ...       ...       ...       ...     ...   \n",
       "2024-12-24 00:00:00+00:00  1.040583  1.041124  1.038745  1.040583       0   \n",
       "2024-12-25 00:00:00+00:00  1.040258  1.043297  1.040150  1.040258       0   \n",
       "2024-12-26 00:00:00+00:00  1.039955  1.042535  1.039145  1.039955       0   \n",
       "2024-12-27 00:00:00+00:00  1.042318  1.044495  1.040669  1.042318       0   \n",
       "2024-12-30 00:00:00+00:00  1.043079  1.046025  1.037775  1.040691       0   \n",
       "\n",
       "                           Dividends  Stock Splits  \n",
       "Date                                                \n",
       "2003-12-01 00:00:00+00:00        0.0           0.0  \n",
       "2003-12-02 00:00:00+00:00        0.0           0.0  \n",
       "2003-12-03 00:00:00+00:00        0.0           0.0  \n",
       "2003-12-04 00:00:00+00:00        0.0           0.0  \n",
       "2003-12-05 00:00:00+00:00        0.0           0.0  \n",
       "...                              ...           ...  \n",
       "2024-12-24 00:00:00+00:00        0.0           0.0  \n",
       "2024-12-25 00:00:00+00:00        0.0           0.0  \n",
       "2024-12-26 00:00:00+00:00        0.0           0.0  \n",
       "2024-12-27 00:00:00+00:00        0.0           0.0  \n",
       "2024-12-30 00:00:00+00:00        0.0           0.0  \n",
       "\n",
       "[5472 rows x 7 columns]"
      ]
     },
     "execution_count": 26,
     "metadata": {},
     "output_type": "execute_result"
    }
   ],
   "source": [
    "yf.Ticker(\"EURUSD=X\").history(period=\"max\")"
   ]
  },
  {
   "cell_type": "code",
   "execution_count": 25,
   "metadata": {},
   "outputs": [
    {
     "ename": "HTTPError",
     "evalue": "404 Client Error: Not Found for url: https://query2.finance.yahoo.com/v6/finance/quoteSummary/EURUSD=X?modules=financialData&modules=quoteType&modules=defaultKeyStatistics&modules=assetProfile&modules=summaryDetail&ssl=true",
     "output_type": "error",
     "traceback": [
      "\u001b[1;31m---------------------------------------------------------------------------\u001b[0m",
      "\u001b[1;31mHTTPError\u001b[0m                                 Traceback (most recent call last)",
      "Cell \u001b[1;32mIn[25], line 1\u001b[0m\n\u001b[1;32m----> 1\u001b[0m x\u001b[38;5;241m.\u001b[39minfo\n",
      "File \u001b[1;32mc:\\Users\\pedro\\Anaconda3\\envs\\backtestenv\\Lib\\site-packages\\yfinance\\ticker.py:142\u001b[0m, in \u001b[0;36mTicker.info\u001b[1;34m(self)\u001b[0m\n\u001b[0;32m    140\u001b[0m \u001b[38;5;129m@property\u001b[39m\n\u001b[0;32m    141\u001b[0m \u001b[38;5;28;01mdef\u001b[39;00m \u001b[38;5;21minfo\u001b[39m(\u001b[38;5;28mself\u001b[39m) \u001b[38;5;241m-\u001b[39m\u001b[38;5;241m>\u001b[39m \u001b[38;5;28mdict\u001b[39m:\n\u001b[1;32m--> 142\u001b[0m     \u001b[38;5;28;01mreturn\u001b[39;00m \u001b[38;5;28mself\u001b[39m\u001b[38;5;241m.\u001b[39mget_info()\n",
      "File \u001b[1;32mc:\\Users\\pedro\\Anaconda3\\envs\\backtestenv\\Lib\\site-packages\\yfinance\\base.py:1678\u001b[0m, in \u001b[0;36mTickerBase.get_info\u001b[1;34m(self, proxy)\u001b[0m\n\u001b[0;32m   1676\u001b[0m \u001b[38;5;28;01mdef\u001b[39;00m \u001b[38;5;21mget_info\u001b[39m(\u001b[38;5;28mself\u001b[39m, proxy\u001b[38;5;241m=\u001b[39m\u001b[38;5;28;01mNone\u001b[39;00m) \u001b[38;5;241m-\u001b[39m\u001b[38;5;241m>\u001b[39m \u001b[38;5;28mdict\u001b[39m:\n\u001b[0;32m   1677\u001b[0m     \u001b[38;5;28mself\u001b[39m\u001b[38;5;241m.\u001b[39m_quote\u001b[38;5;241m.\u001b[39mproxy \u001b[38;5;241m=\u001b[39m proxy\n\u001b[1;32m-> 1678\u001b[0m     data \u001b[38;5;241m=\u001b[39m \u001b[38;5;28mself\u001b[39m\u001b[38;5;241m.\u001b[39m_quote\u001b[38;5;241m.\u001b[39minfo\n\u001b[0;32m   1679\u001b[0m     \u001b[38;5;28;01mreturn\u001b[39;00m data\n",
      "File \u001b[1;32mc:\\Users\\pedro\\Anaconda3\\envs\\backtestenv\\Lib\\site-packages\\yfinance\\scrapers\\quote.py:571\u001b[0m, in \u001b[0;36mQuote.info\u001b[1;34m(self)\u001b[0m\n\u001b[0;32m    568\u001b[0m \u001b[38;5;129m@property\u001b[39m\n\u001b[0;32m    569\u001b[0m \u001b[38;5;28;01mdef\u001b[39;00m \u001b[38;5;21minfo\u001b[39m(\u001b[38;5;28mself\u001b[39m) \u001b[38;5;241m-\u001b[39m\u001b[38;5;241m>\u001b[39m \u001b[38;5;28mdict\u001b[39m:\n\u001b[0;32m    570\u001b[0m     \u001b[38;5;28;01mif\u001b[39;00m \u001b[38;5;28mself\u001b[39m\u001b[38;5;241m.\u001b[39m_info \u001b[38;5;129;01mis\u001b[39;00m \u001b[38;5;28;01mNone\u001b[39;00m:\n\u001b[1;32m--> 571\u001b[0m         \u001b[38;5;28mself\u001b[39m\u001b[38;5;241m.\u001b[39m_fetch(\u001b[38;5;28mself\u001b[39m\u001b[38;5;241m.\u001b[39mproxy)\n\u001b[0;32m    572\u001b[0m         \u001b[38;5;28mself\u001b[39m\u001b[38;5;241m.\u001b[39m_fetch_complementary(\u001b[38;5;28mself\u001b[39m\u001b[38;5;241m.\u001b[39mproxy)\n\u001b[0;32m    574\u001b[0m     \u001b[38;5;28;01mreturn\u001b[39;00m \u001b[38;5;28mself\u001b[39m\u001b[38;5;241m.\u001b[39m_info\n",
      "File \u001b[1;32mc:\\Users\\pedro\\Anaconda3\\envs\\backtestenv\\Lib\\site-packages\\yfinance\\scrapers\\quote.py:600\u001b[0m, in \u001b[0;36mQuote._fetch\u001b[1;34m(self, proxy)\u001b[0m\n\u001b[0;32m    598\u001b[0m modules \u001b[38;5;241m=\u001b[39m [\u001b[38;5;124m'\u001b[39m\u001b[38;5;124mfinancialData\u001b[39m\u001b[38;5;124m'\u001b[39m, \u001b[38;5;124m'\u001b[39m\u001b[38;5;124mquoteType\u001b[39m\u001b[38;5;124m'\u001b[39m, \u001b[38;5;124m'\u001b[39m\u001b[38;5;124mdefaultKeyStatistics\u001b[39m\u001b[38;5;124m'\u001b[39m, \u001b[38;5;124m'\u001b[39m\u001b[38;5;124massetProfile\u001b[39m\u001b[38;5;124m'\u001b[39m, \u001b[38;5;124m'\u001b[39m\u001b[38;5;124msummaryDetail\u001b[39m\u001b[38;5;124m'\u001b[39m]\n\u001b[0;32m    599\u001b[0m params_dict \u001b[38;5;241m=\u001b[39m {\u001b[38;5;124m\"\u001b[39m\u001b[38;5;124mmodules\u001b[39m\u001b[38;5;124m\"\u001b[39m: modules, \u001b[38;5;124m\"\u001b[39m\u001b[38;5;124mssl\u001b[39m\u001b[38;5;124m\"\u001b[39m: \u001b[38;5;124m\"\u001b[39m\u001b[38;5;124mtrue\u001b[39m\u001b[38;5;124m\"\u001b[39m}\n\u001b[1;32m--> 600\u001b[0m result \u001b[38;5;241m=\u001b[39m \u001b[38;5;28mself\u001b[39m\u001b[38;5;241m.\u001b[39m_data\u001b[38;5;241m.\u001b[39mget_raw_json(\n\u001b[0;32m    601\u001b[0m     _BASIC_URL_ \u001b[38;5;241m+\u001b[39m \u001b[38;5;124mf\u001b[39m\u001b[38;5;124m\"\u001b[39m\u001b[38;5;124m/\u001b[39m\u001b[38;5;132;01m{\u001b[39;00m\u001b[38;5;28mself\u001b[39m\u001b[38;5;241m.\u001b[39m_data\u001b[38;5;241m.\u001b[39mticker\u001b[38;5;132;01m}\u001b[39;00m\u001b[38;5;124m\"\u001b[39m, params\u001b[38;5;241m=\u001b[39mparams_dict, proxy\u001b[38;5;241m=\u001b[39mproxy\n\u001b[0;32m    602\u001b[0m )\n\u001b[0;32m    603\u001b[0m result[\u001b[38;5;124m\"\u001b[39m\u001b[38;5;124mquoteSummary\u001b[39m\u001b[38;5;124m\"\u001b[39m][\u001b[38;5;124m\"\u001b[39m\u001b[38;5;124mresult\u001b[39m\u001b[38;5;124m\"\u001b[39m][\u001b[38;5;241m0\u001b[39m][\u001b[38;5;124m\"\u001b[39m\u001b[38;5;124msymbol\u001b[39m\u001b[38;5;124m\"\u001b[39m] \u001b[38;5;241m=\u001b[39m \u001b[38;5;28mself\u001b[39m\u001b[38;5;241m.\u001b[39m_data\u001b[38;5;241m.\u001b[39mticker\n\u001b[0;32m    604\u001b[0m query1_info \u001b[38;5;241m=\u001b[39m \u001b[38;5;28mnext\u001b[39m(\n\u001b[0;32m    605\u001b[0m     (info \u001b[38;5;28;01mfor\u001b[39;00m info \u001b[38;5;129;01min\u001b[39;00m result\u001b[38;5;241m.\u001b[39mget(\u001b[38;5;124m\"\u001b[39m\u001b[38;5;124mquoteSummary\u001b[39m\u001b[38;5;124m\"\u001b[39m, {})\u001b[38;5;241m.\u001b[39mget(\u001b[38;5;124m\"\u001b[39m\u001b[38;5;124mresult\u001b[39m\u001b[38;5;124m\"\u001b[39m, []) \u001b[38;5;28;01mif\u001b[39;00m info[\u001b[38;5;124m\"\u001b[39m\u001b[38;5;124msymbol\u001b[39m\u001b[38;5;124m\"\u001b[39m] \u001b[38;5;241m==\u001b[39m \u001b[38;5;28mself\u001b[39m\u001b[38;5;241m.\u001b[39m_data\u001b[38;5;241m.\u001b[39mticker),\n\u001b[0;32m    606\u001b[0m     \u001b[38;5;28;01mNone\u001b[39;00m,\n\u001b[0;32m    607\u001b[0m )\n",
      "File \u001b[1;32mc:\\Users\\pedro\\Anaconda3\\envs\\backtestenv\\Lib\\site-packages\\yfinance\\data.py:75\u001b[0m, in \u001b[0;36mTickerData.get_raw_json\u001b[1;34m(self, url, user_agent_headers, params, proxy, timeout)\u001b[0m\n\u001b[0;32m     73\u001b[0m \u001b[38;5;28;01mdef\u001b[39;00m \u001b[38;5;21mget_raw_json\u001b[39m(\u001b[38;5;28mself\u001b[39m, url, user_agent_headers\u001b[38;5;241m=\u001b[39m\u001b[38;5;28;01mNone\u001b[39;00m, params\u001b[38;5;241m=\u001b[39m\u001b[38;5;28;01mNone\u001b[39;00m, proxy\u001b[38;5;241m=\u001b[39m\u001b[38;5;28;01mNone\u001b[39;00m, timeout\u001b[38;5;241m=\u001b[39m\u001b[38;5;241m30\u001b[39m):\n\u001b[0;32m     74\u001b[0m     response \u001b[38;5;241m=\u001b[39m \u001b[38;5;28mself\u001b[39m\u001b[38;5;241m.\u001b[39mget(url, user_agent_headers\u001b[38;5;241m=\u001b[39muser_agent_headers, params\u001b[38;5;241m=\u001b[39mparams, proxy\u001b[38;5;241m=\u001b[39mproxy, timeout\u001b[38;5;241m=\u001b[39mtimeout)\n\u001b[1;32m---> 75\u001b[0m     response\u001b[38;5;241m.\u001b[39mraise_for_status()\n\u001b[0;32m     76\u001b[0m     \u001b[38;5;28;01mreturn\u001b[39;00m response\u001b[38;5;241m.\u001b[39mjson()\n",
      "File \u001b[1;32mc:\\Users\\pedro\\Anaconda3\\envs\\backtestenv\\Lib\\site-packages\\requests\\models.py:1024\u001b[0m, in \u001b[0;36mResponse.raise_for_status\u001b[1;34m(self)\u001b[0m\n\u001b[0;32m   1019\u001b[0m     http_error_msg \u001b[38;5;241m=\u001b[39m (\n\u001b[0;32m   1020\u001b[0m         \u001b[38;5;124mf\u001b[39m\u001b[38;5;124m\"\u001b[39m\u001b[38;5;132;01m{\u001b[39;00m\u001b[38;5;28mself\u001b[39m\u001b[38;5;241m.\u001b[39mstatus_code\u001b[38;5;132;01m}\u001b[39;00m\u001b[38;5;124m Server Error: \u001b[39m\u001b[38;5;132;01m{\u001b[39;00mreason\u001b[38;5;132;01m}\u001b[39;00m\u001b[38;5;124m for url: \u001b[39m\u001b[38;5;132;01m{\u001b[39;00m\u001b[38;5;28mself\u001b[39m\u001b[38;5;241m.\u001b[39murl\u001b[38;5;132;01m}\u001b[39;00m\u001b[38;5;124m\"\u001b[39m\n\u001b[0;32m   1021\u001b[0m     )\n\u001b[0;32m   1023\u001b[0m \u001b[38;5;28;01mif\u001b[39;00m http_error_msg:\n\u001b[1;32m-> 1024\u001b[0m     \u001b[38;5;28;01mraise\u001b[39;00m HTTPError(http_error_msg, response\u001b[38;5;241m=\u001b[39m\u001b[38;5;28mself\u001b[39m)\n",
      "\u001b[1;31mHTTPError\u001b[0m: 404 Client Error: Not Found for url: https://query2.finance.yahoo.com/v6/finance/quoteSummary/EURUSD=X?modules=financialData&modules=quoteType&modules=defaultKeyStatistics&modules=assetProfile&modules=summaryDetail&ssl=true"
     ]
    }
   ],
   "source": [
    "x.info"
   ]
  },
  {
   "cell_type": "code",
   "execution_count": 30,
   "metadata": {},
   "outputs": [
    {
     "name": "stdout",
     "output_type": "stream",
     "text": [
      "Running validation...\n",
      "Function A called\n",
      "Function B called\n",
      "Function C called\n"
     ]
    }
   ],
   "source": [
    "class Validator:\n",
    "    _validated = False\n",
    "\n",
    "    @staticmethod\n",
    "    def validate():\n",
    "        if not Validator._validated:\n",
    "            print(\"Running validation...\")\n",
    "            Validator._validated = True  # Faz a validação\n",
    "        return Validator._validated\n",
    "\n",
    "def A():\n",
    "    if Validator.validate():\n",
    "        print(\"Function A called\")\n",
    "        B()\n",
    "\n",
    "def B():\n",
    "    if Validator.validate():\n",
    "        print(\"Function B called\")\n",
    "        C()\n",
    "\n",
    "def C():\n",
    "    if Validator.validate():\n",
    "        print(\"Function C called\")\n",
    "\n",
    "# Exemplo de chamada\n",
    "A()\n"
   ]
  },
  {
   "cell_type": "code",
   "execution_count": 12,
   "metadata": {},
   "outputs": [
    {
     "data": {
      "text/plain": [
       "<module 'MetaTrader5' from 'c:\\\\Users\\\\pedro\\\\Anaconda3\\\\envs\\\\backtestenv\\\\Lib\\\\site-packages\\\\MetaTrader5\\\\__init__.py'>"
      ]
     },
     "execution_count": 12,
     "metadata": {},
     "output_type": "execute_result"
    }
   ],
   "source": [
    "import MetaTrader5 as mt5\n",
    "from datetime import datetime\n",
    "import pytz\n",
    "MetaTrader5"
   ]
  },
  {
   "cell_type": "code",
   "execution_count": 7,
   "metadata": {},
   "outputs": [
    {
     "data": {
      "text/plain": [
       "SymbolInfo"
      ]
     },
     "execution_count": 7,
     "metadata": {},
     "output_type": "execute_result"
    }
   ],
   "source": [
    "mt5.SymbolInfo"
   ]
  },
  {
   "cell_type": "code",
   "execution_count": 15,
   "metadata": {},
   "outputs": [
    {
     "name": "stderr",
     "output_type": "stream",
     "text": [
      "C:\\Users\\pedro\\AppData\\Local\\Temp\\ipykernel_27936\\1423217875.py:1: DeprecationWarning: datetime.datetime.utcfromtimestamp() is deprecated and scheduled for removal in a future version. Use timezone-aware objects to represent datetimes in UTC: datetime.datetime.fromtimestamp(timestamp, datetime.UTC).\n",
      "  datetime.utcfromtimestamp(1672531200).replace(tzinfo=pytz.UTC)\n"
     ]
    },
    {
     "data": {
      "text/plain": [
       "datetime.datetime(2023, 1, 1, 0, 0, tzinfo=<UTC>)"
      ]
     },
     "execution_count": 15,
     "metadata": {},
     "output_type": "execute_result"
    }
   ],
   "source": [
    "datetime.utcfromtimestamp(1672531200).replace(tzinfo=pytz.UTC)\n"
   ]
  },
  {
   "cell_type": "code",
   "execution_count": 17,
   "metadata": {},
   "outputs": [
    {
     "data": {
      "text/plain": [
       "18446744073709551616"
      ]
     },
     "execution_count": 17,
     "metadata": {},
     "output_type": "execute_result"
    }
   ],
   "source": [
    "2**64"
   ]
  },
  {
   "cell_type": "code",
   "execution_count": 3,
   "metadata": {},
   "outputs": [
    {
     "name": "stdout",
     "output_type": "stream",
     "text": [
      "Warning: Could not read file ..\\.git\\index\n",
      "Warning: Could not read file ..\\.git\\objects\\0a\\0474c176b037c889a8aba321fb2d49fb924c42\n",
      "Warning: Could not read file ..\\.git\\objects\\25\\05b807dc8d77a8a39e628fc6007e10679b38ae\n",
      "Warning: Could not read file ..\\.git\\objects\\2d\\989d45ceb3de02d5d1b2e00d1d90909f03195e\n",
      "Warning: Could not read file ..\\.git\\objects\\3e\\82c20b32f888e7d294ef6168460c627a20d49c\n",
      "Warning: Could not read file ..\\.git\\objects\\45\\888c42e2cf0d72a441c95b385760113921e454\n",
      "Warning: Could not read file ..\\.git\\objects\\48\\af896d39fc145947c6c8a7766be1eee3fd1c3f\n",
      "Warning: Could not read file ..\\.git\\objects\\4c\\a099f8240ce5b61852b581ddfe827d65b39a01\n",
      "Warning: Could not read file ..\\.git\\objects\\54\\4c10fbf4f3560e6aaa4bf8a56a72b2e7aefc2c\n",
      "Warning: Could not read file ..\\.git\\objects\\5d\\d248c6c7e15296c561b6872d37ee6db9a19f96\n",
      "Warning: Could not read file ..\\.git\\objects\\70\\0e0f185afac062768511186a715896428290de\n",
      "Warning: Could not read file ..\\.git\\objects\\71\\25a3bbd302252a6d79f01a48ae0f694d448442\n",
      "Warning: Could not read file ..\\.git\\objects\\76\\6d71147f71bc0095d78658af8e2e5ba1c7590d\n",
      "Warning: Could not read file ..\\.git\\objects\\7f\\575fe4b12c6228daabbb0f7ea37d975637a37f\n",
      "Warning: Could not read file ..\\.git\\objects\\80\\eb168773bb0c0ac9d56e73bd7940369a05484a\n",
      "Warning: Could not read file ..\\.git\\objects\\92\\9bf3c485a02ccd46a756884b2b824ed24e3e95\n",
      "Warning: Could not read file ..\\.git\\objects\\95\\6a4254fd0130af574a767f624112ef180fc941\n",
      "Warning: Could not read file ..\\.git\\objects\\9c\\fb6aaf2ac409b8da3c60b9ae55ff175bf5e793\n",
      "Warning: Could not read file ..\\.git\\objects\\9d\\1dcfdaf1a6857c5f83dc27019c7600e1ffaff8\n",
      "Warning: Could not read file ..\\.git\\objects\\9d\\b7fed55902903b3e78de440b40fbc469a71f22\n",
      "Warning: Could not read file ..\\.git\\objects\\9f\\1b4b57fcfab1be280131f4205af6fc5715512c\n",
      "Warning: Could not read file ..\\.git\\objects\\b4\\d8c00741dc3869c59fc4247d351d4d865f6224\n",
      "Warning: Could not read file ..\\.git\\objects\\be\\420ad9c9a6938b03b75f6ac7de98a4a005be34\n",
      "Warning: Could not read file ..\\.git\\objects\\cc\\4c2ddf59e9268e88a2c45d687e8b125f5dd482\n",
      "Warning: Could not read file ..\\.git\\objects\\cf\\dcf566af7919ff0e0c9ecfd6620e07f393af4e\n",
      "Warning: Could not read file ..\\.git\\objects\\d2\\77e6121b9ac3df957a899aca1be93ab86d94b8\n",
      "Warning: Could not read file ..\\.git\\objects\\d5\\549288ef2f121b15c17ff9e849bc0d1ad74b40\n",
      "Warning: Could not read file ..\\.git\\objects\\d9\\8de7e26478a2b4a417aef8d472a0ddf3359402\n",
      "Warning: Could not read file ..\\.git\\objects\\dc\\e6a24a5ff6675d4bde9832889de2d42e8d9f59\n",
      "Warning: Could not read file ..\\.git\\objects\\e6\\9de29bb2d1d6434b8b29ae775ad8c2e48c5391\n",
      "Warning: Could not read file ..\\.git\\objects\\e9\\2a1b101ef213020931cdef6a3f1ba6bb63b629\n",
      "Warning: Could not read file ..\\.git\\objects\\ef\\61d8c79b1d4334dcc9e131fb524a5a88ce40fc\n",
      "Warning: Could not read file ..\\algo_trading\\sources\\MetaTrader5_source\\account\\__pycache__\\account.cpython-312.pyc\n",
      "Warning: Could not read file ..\\algo_trading\\sources\\MetaTrader5_source\\account\\__pycache__\\__init__.cpython-312.pyc\n",
      "Warning: Could not read file ..\\algo_trading\\sources\\MetaTrader5_source\\models\\__pycache__\\classes.cpython-311.pyc\n",
      "Warning: Could not read file ..\\algo_trading\\sources\\MetaTrader5_source\\models\\__pycache__\\metatrader.cpython-311.pyc\n",
      "Warning: Could not read file ..\\algo_trading\\sources\\MetaTrader5_source\\models\\__pycache__\\metatrader.cpython-312.pyc\n",
      "Warning: Could not read file ..\\algo_trading\\sources\\MetaTrader5_source\\models\\__pycache__\\__init__.cpython-311.pyc\n",
      "Warning: Could not read file ..\\algo_trading\\sources\\MetaTrader5_source\\models\\__pycache__\\__init__.cpython-312.pyc\n",
      "Warning: Could not read file ..\\algo_trading\\sources\\MetaTrader5_source\\utils\\__pycache__\\dates.cpython-312.pyc\n",
      "Warning: Could not read file ..\\algo_trading\\sources\\MetaTrader5_source\\utils\\__pycache__\\exceptions.cpython-312.pyc\n",
      "Warning: Could not read file ..\\algo_trading\\sources\\MetaTrader5_source\\utils\\__pycache__\\metatrader.cpython-312.pyc\n",
      "Warning: Could not read file ..\\algo_trading\\sources\\MetaTrader5_source\\utils\\__pycache__\\__init__.cpython-312.pyc\n",
      "Warning: Could not read file ..\\algo_trading\\sources\\MetaTrader5_source\\__pycache__\\__init__.cpython-312.pyc\n",
      "Warning: Could not read file ..\\algo_trading\\sources\\__pycache__\\base_source.cpython-312.pyc\n",
      "Warning: Could not read file ..\\algo_trading\\sources\\__pycache__\\yfinance_source.cpython-312.pyc\n",
      "Warning: Could not read file ..\\algo_trading\\sources\\__pycache__\\__init__.cpython-312.pyc\n",
      "Warning: Could not read file ..\\algo_trading\\utils\\__pycache__\\file_storage.cpython-312.pyc\n",
      "Warning: Could not read file ..\\algo_trading\\utils\\__pycache__\\file_storage.cpython-313.pyc\n",
      "Warning: Could not read file ..\\algo_trading\\__pycache__\\account_handler.cpython-312.pyc\n",
      "Warning: Could not read file ..\\algo_trading\\__pycache__\\data_handler.cpython-312.pyc\n",
      "Warning: Could not read file ..\\algo_trading\\__pycache__\\data_storage.cpython-312.pyc\n",
      "Warning: Could not read file ..\\algo_trading\\__pycache__\\position_handler.cpython-312.pyc\n",
      "Warning: Could not read file ..\\algo_trading\\__pycache__\\__init__.cpython-312.pyc\n",
      "Warning: Could not read file ..\\tests\\MetaTrader5\\account\\__pycache__\\test_account.cpython-312-pytest-7.4.4.pyc\n",
      "Warning: Could not read file ..\\tests\\MetaTrader5\\models\\__pycache__\\test_enums.cpython-312-pytest-7.4.4.pyc\n",
      "Warning: Could not read file ..\\tests\\MetaTrader5\\models\\__pycache__\\test_mqlpositioninfo.cpython-312-pytest-7.4.4.pyc\n",
      "Warning: Could not read file ..\\tests\\MetaTrader5\\models\\__pycache__\\test_mqlsymbolinfo.cpython-312-pytest-7.4.4.pyc\n",
      "Warning: Could not read file ..\\tests\\MetaTrader5\\models\\__pycache__\\test_mqltraderequest.cpython-312-pytest-7.4.4.pyc\n",
      "Warning: Could not read file ..\\tests\\MetaTrader5\\models\\__pycache__\\test_mqltraderesult.cpython-312-pytest-7.4.4.pyc\n",
      "Warning: Could not read file ..\\tests\\__pycache__\\test_data_storage.cpython-312-pytest-7.4.4.pyc\n",
      "Warning: Could not read file ..\\tests\\__pycache__\\test_file_storage.cpython-312-pytest-7.4.4.pyc\n",
      "Warning: Could not read file ..\\tests\\__pycache__\\test_position_handler.cpython-312-pytest-7.4.4.pyc\n",
      "Warning: Could not read file ..\\tests\\__pycache__\\__init__.cpython-312.pyc\n"
     ]
    },
    {
     "data": {
      "text/plain": [
       "594505"
      ]
     },
     "execution_count": 3,
     "metadata": {},
     "output_type": "execute_result"
    }
   ],
   "source": [
    "import os\n",
    "\n",
    "def count_characters_in_directory(directory_path):\n",
    "    total_characters = 0\n",
    "\n",
    "    for root, _, files in os.walk(directory_path):\n",
    "        for file in files:\n",
    "            file_path = os.path.join(root, file)\n",
    "            try:\n",
    "                with open(file_path, 'r', encoding='utf-8') as f:\n",
    "                    content = f.read()\n",
    "                    total_characters += len(content)\n",
    "            except (UnicodeDecodeError, FileNotFoundError):\n",
    "                # Ignorar arquivos não legíveis ou inexistentes\n",
    "                print(f\"Warning: Could not read file {file_path}\")\n",
    "    \n",
    "    return total_characters\n",
    "\n",
    "if __name__ == \"__main__\":\n",
    "    total = count_characters_in_directory(\"..\")\n",
    "total"
   ]
  }
 ],
 "metadata": {
  "kernelspec": {
   "display_name": "backtestenv",
   "language": "python",
   "name": "python3"
  },
  "language_info": {
   "codemirror_mode": {
    "name": "ipython",
    "version": 3
   },
   "file_extension": ".py",
   "mimetype": "text/x-python",
   "name": "python",
   "nbconvert_exporter": "python",
   "pygments_lexer": "ipython3",
   "version": "3.12.8"
  }
 },
 "nbformat": 4,
 "nbformat_minor": 2
}
