{
 "cells": [
  {
   "cell_type": "code",
   "execution_count": 1,
   "metadata": {},
   "outputs": [],
   "source": [
    "import pytest\n",
    "import pandas as pd\n",
    "from algo_trading.position_handler import OperationHandler, OrderType, PositionStatus, OrderStatus\n"
   ]
  },
  {
   "cell_type": "code",
   "execution_count": 2,
   "metadata": {},
   "outputs": [],
   "source": [
    "handler = OperationHandler(initial_balance=10000)"
   ]
  },
  {
   "cell_type": "code",
   "execution_count": 3,
   "metadata": {},
   "outputs": [],
   "source": [
    "# Verifica se a parte fechada foi registrada no histórico\n",
    "closed_positions = handler.get_closed_positions()"
   ]
  },
  {
   "cell_type": "code",
   "execution_count": 4,
   "metadata": {},
   "outputs": [
    {
     "name": "stderr",
     "output_type": "stream",
     "text": [
      "2024-12-26 13:16:50,940 - INFO - File historical_orders.pkl removed successfully.\n",
      "2024-12-26 13:16:50,943 - INFO - File closed_positions.pkl removed successfully.\n",
      "2024-12-26 13:16:50,945 - INFO - OperationHandler has been reset. All positions, orders, and historical data have been cleared.\n"
     ]
    }
   ],
   "source": [
    "handler.reset()"
   ]
  },
  {
   "cell_type": "code",
   "execution_count": 5,
   "metadata": {},
   "outputs": [
    {
     "name": "stderr",
     "output_type": "stream",
     "text": [
      "2024-12-26 13:16:50,974 - INFO - Order created: {'order_id': 1, 'type': <OrderType.BUY: 1>, 'price': 100, 'quantity': 10, 'sl': 95, 'tp': 110, 'status': <OrderStatus.PENDING: 1>, 'max_time_active': None, 'creation_time': Timestamp('2024-12-26 13:16:50.974619'), 'reason': None, 'position_reference': None}\n",
      "2024-12-26 13:16:50,978 - INFO - Order 1 executed and converted to position 1.\n",
      "2024-12-26 13:16:50,990 - INFO - Appended data to Pickle file: historical_orders.pkl\n",
      "2024-12-26 13:16:50,993 - INFO - Appended Order {'order_id': 1, 'type': <OrderType.BUY: 1>, 'price': 100, 'quantity': 10, 'sl': 95, 'tp': 110, 'status': <OrderStatus.EXECUTED: 2>, 'max_time_active': None, 'creation_time': Timestamp('2024-12-26 13:16:50.974619'), 'reason': None, 'position_reference': <algo_trading.position_handler.Position object at 0x000001FFDDC06A80>} to historical_orders.pkl\n",
      "2024-12-26 13:16:50,997 - INFO - Position 1 updated with remaining quantity: 7\n",
      "2024-12-26 13:16:51,000 - INFO - Position 2 closed with profit/loss: 15.00, Reason: Partial close - Partial Close\n",
      "2024-12-26 13:16:51,013 - INFO - Appended data to Pickle file: closed_positions.pkl\n",
      "2024-12-26 13:16:51,018 - INFO - Appended Position {'position_id': 2, 'type': <OrderType.BUY: 1>, 'open_price': 100, 'quantity': 3, 'sl': None, 'tp': None, 'open_time': Timestamp('2024-12-26 13:16:50.974619'), 'status': <PositionStatus.CLOSED: 2>, 'close_price': 105, 'close_time': Timestamp('2024-12-26 13:16:51.000103'), 'profit_loss': 15, 'reason': 'Partial close - Partial Close'} to closed_positions.pkl\n",
      "2024-12-26 13:16:51,020 - INFO - Position 2 partially closed and saved to historical positions.\n",
      "2024-12-26 13:16:51,023 - INFO - Position 1 updated with remaining quantity: 5\n",
      "2024-12-26 13:16:51,026 - INFO - Position 3 closed with profit/loss: 14.00, Reason: Another partial close - Partial Close\n",
      "2024-12-26 13:16:51,039 - INFO - Appended data to Pickle file: closed_positions.pkl\n",
      "2024-12-26 13:16:51,042 - INFO - Appended Position {'position_id': 3, 'type': <OrderType.BUY: 1>, 'open_price': 100, 'quantity': 2, 'sl': None, 'tp': None, 'open_time': Timestamp('2024-12-26 13:16:50.974619'), 'status': <PositionStatus.CLOSED: 2>, 'close_price': 107, 'close_time': Timestamp('2024-12-26 13:16:51.025693'), 'profit_loss': 14, 'reason': 'Another partial close - Partial Close'} to closed_positions.pkl\n",
      "2024-12-26 13:16:51,045 - INFO - Position 3 partially closed and saved to historical positions.\n"
     ]
    }
   ],
   "source": [
    "handler.create_order(OrderType.BUY, price=100, quantity=10, sl=95, tp=110)\n",
    "handler._execute_order(handler.pending_orders[0])\n",
    "\n",
    "position = handler.positions[0]\n",
    "handler.close_position(price=105, quantity=3, reason=\"Partial close\", position=position)\n",
    "handler.close_position(price=107, quantity=2, reason=\"Another partial close\", position=position)\n"
   ]
  },
  {
   "cell_type": "code",
   "execution_count": 6,
   "metadata": {},
   "outputs": [
    {
     "data": {
      "text/html": [
       "<div>\n",
       "<style scoped>\n",
       "    .dataframe tbody tr th:only-of-type {\n",
       "        vertical-align: middle;\n",
       "    }\n",
       "\n",
       "    .dataframe tbody tr th {\n",
       "        vertical-align: top;\n",
       "    }\n",
       "\n",
       "    .dataframe thead th {\n",
       "        text-align: right;\n",
       "    }\n",
       "</style>\n",
       "<table border=\"1\" class=\"dataframe\">\n",
       "  <thead>\n",
       "    <tr style=\"text-align: right;\">\n",
       "      <th></th>\n",
       "      <th>position_id</th>\n",
       "      <th>type</th>\n",
       "      <th>open_price</th>\n",
       "      <th>quantity</th>\n",
       "      <th>sl</th>\n",
       "      <th>tp</th>\n",
       "      <th>open_time</th>\n",
       "      <th>status</th>\n",
       "      <th>close_price</th>\n",
       "      <th>close_time</th>\n",
       "      <th>profit_loss</th>\n",
       "      <th>reason</th>\n",
       "    </tr>\n",
       "  </thead>\n",
       "  <tbody>\n",
       "    <tr>\n",
       "      <th>0</th>\n",
       "      <td>2</td>\n",
       "      <td>OrderType.BUY</td>\n",
       "      <td>100</td>\n",
       "      <td>3</td>\n",
       "      <td>None</td>\n",
       "      <td>None</td>\n",
       "      <td>2024-12-26 13:16:50.974619</td>\n",
       "      <td>PositionStatus.CLOSED</td>\n",
       "      <td>105</td>\n",
       "      <td>2024-12-26 13:16:51.000103</td>\n",
       "      <td>15</td>\n",
       "      <td>Partial close - Partial Close</td>\n",
       "    </tr>\n",
       "    <tr>\n",
       "      <th>1</th>\n",
       "      <td>3</td>\n",
       "      <td>OrderType.BUY</td>\n",
       "      <td>100</td>\n",
       "      <td>2</td>\n",
       "      <td>None</td>\n",
       "      <td>None</td>\n",
       "      <td>2024-12-26 13:16:50.974619</td>\n",
       "      <td>PositionStatus.CLOSED</td>\n",
       "      <td>107</td>\n",
       "      <td>2024-12-26 13:16:51.025693</td>\n",
       "      <td>14</td>\n",
       "      <td>Another partial close - Partial Close</td>\n",
       "    </tr>\n",
       "  </tbody>\n",
       "</table>\n",
       "</div>"
      ],
      "text/plain": [
       "   position_id           type  open_price  quantity    sl    tp  \\\n",
       "0            2  OrderType.BUY         100         3  None  None   \n",
       "1            3  OrderType.BUY         100         2  None  None   \n",
       "\n",
       "                   open_time                 status  close_price  \\\n",
       "0 2024-12-26 13:16:50.974619  PositionStatus.CLOSED          105   \n",
       "1 2024-12-26 13:16:50.974619  PositionStatus.CLOSED          107   \n",
       "\n",
       "                  close_time  profit_loss  \\\n",
       "0 2024-12-26 13:16:51.000103           15   \n",
       "1 2024-12-26 13:16:51.025693           14   \n",
       "\n",
       "                                  reason  \n",
       "0          Partial close - Partial Close  \n",
       "1  Another partial close - Partial Close  "
      ]
     },
     "execution_count": 6,
     "metadata": {},
     "output_type": "execute_result"
    }
   ],
   "source": [
    "handler.get_closed_positions()"
   ]
  }
 ],
 "metadata": {
  "kernelspec": {
   "display_name": "backtestenv",
   "language": "python",
   "name": "python3"
  },
  "language_info": {
   "codemirror_mode": {
    "name": "ipython",
    "version": 3
   },
   "file_extension": ".py",
   "mimetype": "text/x-python",
   "name": "python",
   "nbconvert_exporter": "python",
   "pygments_lexer": "ipython3",
   "version": "3.12.8"
  }
 },
 "nbformat": 4,
 "nbformat_minor": 2
}
